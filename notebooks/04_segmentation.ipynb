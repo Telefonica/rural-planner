{
 "cells": [
  {
   "cell_type": "code",
   "execution_count": 3,
   "metadata": {},
   "outputs": [],
   "source": [
    "#Load libraries\n",
    "import pandas as pd\n",
    "import sys\n",
    "from sqlalchemy import create_engine, text\n",
    "from configobj import ConfigObj\n",
    "import contextlib\n",
    "from functools import reduce\n",
    "import os\n",
    "\n",
    "module_path = os.path.abspath(os.path.join('..'))\n",
    "if module_path not in sys.path:\n",
    "    sys.path.append(module_path)\n",
    "    \n",
    "from functions.utils import database"
   ]
  },
  {
   "cell_type": "code",
   "execution_count": 4,
   "metadata": {},
   "outputs": [],
   "source": [
    "## define paths and variables\n",
    "\n",
    "config_path = \"/home/jovyan/shared/rural_planner_refactoring/config_files_test/config_co\"\n",
    "\n",
    "parser = ConfigObj(config_path)\n",
    "\n",
    "sql_path =  parser['sql_path']\n",
    "country_folder = parser['country_folder']\n",
    "schema = parser['segmentation_params']['schema']\n",
    "\n",
    "\n",
    "output_table = parser['segmentation_params']['output_table']\n",
    "table_settlements = parser['segmentation_params']['table_settlements']\n",
    "table_coverage = parser['segmentation_params']['table_coverage']"
   ]
  },
  {
   "cell_type": "code",
   "execution_count": 6,
   "metadata": {},
   "outputs": [],
   "source": [
    "#Import the data frames to be used\n",
    "\n",
    "query_path = sql_path + '/' + country_folder + '/' + 'segmentation_get_unserved.sql'\n",
    "with open(query_path) as file, database(parser) as db:\n",
    "    query = file.read()\n",
    "    query_formatted = query.format(schema = schema, table_coverage = table_coverage, table_settlements = table_settlements)\n",
    "    df_tef_organic = pd.read_sql_query(query_formatted, db)\n",
    "        \n",
    "\n",
    "query_path = sql_path + '/' + country_folder + '/' + 'segmentation_get_overlay.sql'\n",
    "with open(query_path) as file, database(parser) as db:\n",
    "    query = file.read()\n",
    "    query_formatted = query.format(schema = schema, table_coverage = table_coverage, table_settlements = table_settlements)\n",
    "    df_overlay_2g = pd.read_sql_query(query_formatted, db)\n",
    "        \n",
    "\n",
    "query_path = sql_path + '/' + country_folder + '/' + 'segmentation_get_greenfield.sql'\n",
    "with open(query_path) as file, database(parser) as db:\n",
    "    query = file.read()\n",
    "    query_formatted = query.format(schema = schema, table_coverage = table_coverage, table_settlements = table_settlements)\n",
    "    df_greenfield = pd.read_sql_query(query_formatted, db)\n",
    "    \n",
    "\n",
    "query_path = sql_path + '/' + country_folder + '/' + 'segmentation_get_fully_unconnected.sql'\n",
    "with open(query_path) as file, database(parser) as db:\n",
    "    query = file.read()\n",
    "    query_formatted = query.format(schema = schema, table_coverage = table_coverage, table_settlements = table_settlements)\n",
    "    df_fully_unconnected = pd.read_sql_query(query_formatted, db)\n",
    "    \n",
    "#Merge data frames\n",
    "dataframes = [df_tef_organic, df_overlay_2g, df_greenfield, df_fully_unconnected]\n",
    "df_final = reduce(lambda left,right: pd.merge(left,right, on='settlement_id', how = 'left'), dataframes)\n",
    "\n",
    "#Upload output to database\n",
    "with database(parser) as db:    \n",
    "    df_final.to_sql(output_table, con=db, if_exists = 'replace', schema = schema, index = False)\n",
    "\n",
    "        "
   ]
  }
 ],
 "metadata": {
  "kernelspec": {
   "display_name": "Python 3",
   "language": "python",
   "name": "python3"
  },
  "language_info": {
   "codemirror_mode": {
    "name": "ipython",
    "version": 3
   },
   "file_extension": ".py",
   "mimetype": "text/x-python",
   "name": "python",
   "nbconvert_exporter": "python",
   "pygments_lexer": "ipython3",
   "version": "3.8.3"
  }
 },
 "nbformat": 4,
 "nbformat_minor": 1
}
