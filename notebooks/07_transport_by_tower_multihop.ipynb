{
 "cells": [
  {
   "cell_type": "code",
   "execution_count": 1,
   "metadata": {},
   "outputs": [],
   "source": [
    "#Load libraries\n",
    "import pandas as pd\n",
    "from configobj import ConfigObj\n",
    "import os\n",
    "import sys\n",
    "import math\n",
    "import sqlalchemy\n",
    "\n",
    "module_path = os.path.abspath(os.path.join('..'))\n",
    "if module_path not in sys.path:\n",
    "    sys.path.append(module_path)\n",
    "    \n",
    "from functions.transport_by_tower_owner import transport_by_tower_owner\n",
    "from functions.utils import print_full, elevation_google, database"
   ]
  },
  {
   "cell_type": "code",
   "execution_count": 3,
   "metadata": {},
   "outputs": [],
   "source": [
    "## define paths and variables\n",
    "\n",
    "config_path = \"/home/jovyan/shared/rural_planner_refactoring/config_files/config_br\"\n",
    "\n",
    "parser = ConfigObj(config_path)\n",
    "\n",
    "sql_path =  parser['sql_path']\n",
    "country_folder = parser['country_folder']\n",
    "schema = parser['transport_multihop_params']['schema']\n",
    "\n",
    "\n",
    "output_table = parser['transport_multihop_params']['output_table']\n",
    "temporary_table = parser['transport_multihop_params']['temporary_table']\n",
    "table_towers = parser['transport_by_tower_params']['table_infrastructure']\n",
    "table_clusters = parser['clustering_params']['output_table']\n",
    "table_clusters_3g = parser['clustering_3g_params']['output_table']\n",
    "table_settlements = parser['clustering_params']['table_settlements']\n",
    "table_transport = parser['transport_by_tower_params']['output_table']\n",
    "table_transport_clusters = parser['transport_gf_cl_params']['output_table']\n",
    "\n",
    "sources_omit = parser['transport_by_tower_params']['sources_omit']\n",
    "owners_tx = dict(parser['transport_by_tower_params']['owners_tx'])\n",
    "\n",
    "third_party_owners = parser['transport_by_tower_params']['third_party_owners']\n",
    "regional_owners = parser['transport_by_tower_params']['regional_owners']\n",
    "tef_alias = (owners_tx.keys() - (regional_owners + third_party_owners)).pop()\n",
    "\n",
    "fiber_radius = int(parser['transport_by_tower_params']['fiber_radius']) "
   ]
  },
  {
   "cell_type": "code",
   "execution_count": 10,
   "metadata": {},
   "outputs": [
    {
     "ename": "OperationalError",
     "evalue": "(psycopg2.OperationalError) server closed the connection unexpectedly\n\tThis probably means the server terminated abnormally\n\tbefore or while processing the request.\n [SQL: \"SELECT * FROM (\\n    SELECT S1.centroid,\\n    S1.latitude AS latitude_1,\\n    S1.longitude AS longitude_1,\\n    S1.tower_height as tower_height_1,\\n    S2.tower_id AS tower_id_2,\\n    S2.latitude AS latitude_2,\\n    S2.longitude AS longitude_2,\\n    S2.tower_height AS tower_height_2,\\n    S2.source AS owner_2,\\n    ST_Distance(S1.geom, ST_Transform(S2.geom,3857)) AS distance\\n    FROM (SELECT A.centroid,\\n    COALESCE(I.latitude, S.latitude) AS latitude,\\n    COALESCE(I.longitude, S.longitude) AS longitude,\\n    COALESCE(I.tower_height, 50) AS tower_height,\\n    ST_Transform(COALESCE(I.geom, S.geom),3857) AS geom\\n    FROM (SELECT * FROM rural_planner_dev.clusters) A\\n    LEFT JOIN rural_planner_dev.infrastructure_global i\\n    ON A.centroid=i.tower_id::text\\n    LEFT JOIN rural_planner_dev.settlements s\\n    ON A.centroid=s.settlement_id\\n    LEFT JOIN (SELECT tower_id::TEXT as centroid,                \\n                    vivo_transport_id,\\n                    distance_vivo_transport_m,\\n                    line_of_sight_vivo,\\n                    additional_height_tower_1_vivo_m,\\n                    additional_height_tower_2_vivo_m,\\n                    backhaul_vivo,\\n                    regional_transport_id,\\n                    distance_regional_transport_m,\\n                    line_of_sight_regional,\\n                    additional_height_tower_1_regional_m,\\n                    additional_height_tower_2_regional_m,\\n                    backhaul_regional,\\n                    third_party_transport_id,\\n                    distance_third_party_transport_m,\\n                    line_of_sight_third_party,\\n                    additional_height_tower_1_third_party_m,\\n                    additional_height_tower_2_third_party_m,\\n                    backhaul_third_party,\\n                    geom_tower,\\n                    geom_vivo,\\n                    geom_regional,\\n                    geom_third_party,\\n                    geom_line_vivo,\\n                    geom_line_regional,\\n                    geom_line_third_party\\n                    FROM rural_planner_dev.transport_by_tower_all\\n                    UNION                \\n                    SELECT * FROM rural_planner_dev.transport_greenfield_clusters) T\\n    ON T.centroid=A.centroid\\n    WHERE (T.line_of_sight_vivo IS FALSE AND T.line_of_sight_regional IS FALSE AND T.line_of_sight_third_party IS FALSE)\\n    AND (T.distance_vivo_transport_m>5000 AND T.distance_regional_transport_m>5000 \\n    AND T.distance_third_party_transport_m>5000)\\n     OR (T.distance_vivo_transport_m IS NULL AND T.distance_regional_transport_m IS NULL AND T.distance_third_party_transport_m IS NULL)) S1\\n    LEFT JOIN (SELECT I.tower_id::text,\\n    I.latitude,\\n    I.longitude,\\n    I.tower_height,\\n    I.source ,\\n    I.geom\\n    FROM rural_planner_dev.infrastructure_global I\\n    LEFT JOIN rural_planner_dev.transport_by_tower_all T\\n    on I.tower_id=T.tower_id\\n    WHERE source NOT LIKE '%%LINES%%' AND (T.line_of_sight_vivo IS TRUE OR T.line_of_sight_regional IS TRUE OR T.line_of_sight_third_party IS TRUE)\\n    AND tower_height>0\\n) S2\\nON ST_DWithin(S1.geom,ST_Transform(S2.geom,3857), 40000)) B\\nORDER BY centroid, distance DESC--, line_of_sight_vivo DESC, line_of_sight_regional DESC, line_of_sight_third_party DESC\"] (Background on this error at: http://sqlalche.me/e/e3q8)",
     "output_type": "error",
     "traceback": [
      "\u001b[0;31m---------------------------------------------------------------------------\u001b[0m",
      "\u001b[0;31mOperationalError\u001b[0m                          Traceback (most recent call last)",
      "\u001b[0;32m/opt/conda/lib/python3.6/site-packages/sqlalchemy/engine/base.py\u001b[0m in \u001b[0;36m_execute_context\u001b[0;34m(self, dialect, constructor, statement, parameters, *args)\u001b[0m\n\u001b[1;32m   1192\u001b[0m                         \u001b[0mparameters\u001b[0m\u001b[0;34m,\u001b[0m\u001b[0;34m\u001b[0m\u001b[0;34m\u001b[0m\u001b[0m\n\u001b[0;32m-> 1193\u001b[0;31m                         context)\n\u001b[0m\u001b[1;32m   1194\u001b[0m         \u001b[0;32mexcept\u001b[0m \u001b[0mBaseException\u001b[0m \u001b[0;32mas\u001b[0m \u001b[0me\u001b[0m\u001b[0;34m:\u001b[0m\u001b[0;34m\u001b[0m\u001b[0;34m\u001b[0m\u001b[0m\n",
      "\u001b[0;32m/opt/conda/lib/python3.6/site-packages/sqlalchemy/engine/default.py\u001b[0m in \u001b[0;36mdo_execute\u001b[0;34m(self, cursor, statement, parameters, context)\u001b[0m\n\u001b[1;32m    508\u001b[0m     \u001b[0;32mdef\u001b[0m \u001b[0mdo_execute\u001b[0m\u001b[0;34m(\u001b[0m\u001b[0mself\u001b[0m\u001b[0;34m,\u001b[0m \u001b[0mcursor\u001b[0m\u001b[0;34m,\u001b[0m \u001b[0mstatement\u001b[0m\u001b[0;34m,\u001b[0m \u001b[0mparameters\u001b[0m\u001b[0;34m,\u001b[0m \u001b[0mcontext\u001b[0m\u001b[0;34m=\u001b[0m\u001b[0;32mNone\u001b[0m\u001b[0;34m)\u001b[0m\u001b[0;34m:\u001b[0m\u001b[0;34m\u001b[0m\u001b[0;34m\u001b[0m\u001b[0m\n\u001b[0;32m--> 509\u001b[0;31m         \u001b[0mcursor\u001b[0m\u001b[0;34m.\u001b[0m\u001b[0mexecute\u001b[0m\u001b[0;34m(\u001b[0m\u001b[0mstatement\u001b[0m\u001b[0;34m,\u001b[0m \u001b[0mparameters\u001b[0m\u001b[0;34m)\u001b[0m\u001b[0;34m\u001b[0m\u001b[0;34m\u001b[0m\u001b[0m\n\u001b[0m\u001b[1;32m    510\u001b[0m \u001b[0;34m\u001b[0m\u001b[0m\n",
      "\u001b[0;31mOperationalError\u001b[0m: server closed the connection unexpectedly\n\tThis probably means the server terminated abnormally\n\tbefore or while processing the request.\n",
      "\nThe above exception was the direct cause of the following exception:\n",
      "\u001b[0;31mOperationalError\u001b[0m                          Traceback (most recent call last)",
      "\u001b[0;32m<ipython-input-10-d368911fb395>\u001b[0m in \u001b[0;36m<module>\u001b[0;34m\u001b[0m\n\u001b[1;32m      6\u001b[0m \u001b[0mquery_path_all\u001b[0m \u001b[0;34m=\u001b[0m \u001b[0msql_path\u001b[0m \u001b[0;34m+\u001b[0m \u001b[0;34m'/'\u001b[0m \u001b[0;34m+\u001b[0m \u001b[0mcountry_folder\u001b[0m \u001b[0;34m+\u001b[0m \u001b[0;34m'/'\u001b[0m \u001b[0;34m+\u001b[0m \u001b[0;34m'transport_multihop_load_all_inputs.sql'\u001b[0m\u001b[0;34m\u001b[0m\u001b[0;34m\u001b[0m\u001b[0m\n\u001b[1;32m      7\u001b[0m \u001b[0;34m\u001b[0m\u001b[0m\n\u001b[0;32m----> 8\u001b[0;31m \u001b[0mdf_output\u001b[0m \u001b[0;34m=\u001b[0m \u001b[0mtransport_by_tower_owner\u001b[0m\u001b[0;34m(\u001b[0m\u001b[0mparser\u001b[0m\u001b[0;34m,\u001b[0m \u001b[0mowners\u001b[0m\u001b[0;34m,\u001b[0m \u001b[0mowner_name\u001b[0m\u001b[0;34m,\u001b[0m \u001b[0mquery_path\u001b[0m\u001b[0;34m,\u001b[0m \u001b[0mquery_path_all\u001b[0m\u001b[0;34m,\u001b[0m \u001b[0mcolumn_name\u001b[0m \u001b[0;34m=\u001b[0m \u001b[0;34m'centroid'\u001b[0m\u001b[0;34m)\u001b[0m\u001b[0;34m\u001b[0m\u001b[0;34m\u001b[0m\u001b[0m\n\u001b[0m",
      "\u001b[0;32m~/shared/rural_planner_refactoring/functions/transport_by_tower_owner.py\u001b[0m in \u001b[0;36mtransport_by_tower_owner\u001b[0;34m(parser, owners, owner_name, query_path, query_path_all, column_name)\u001b[0m\n\u001b[1;32m     45\u001b[0m                                       \u001b[0mtable_transport_clusters\u001b[0m \u001b[0;34m=\u001b[0m \u001b[0mtable_transport_clusters\u001b[0m\u001b[0;34m,\u001b[0m\u001b[0;34m\u001b[0m\u001b[0;34m\u001b[0m\u001b[0m\n\u001b[1;32m     46\u001b[0m                                       table_settlements = table_settlements)\n\u001b[0;32m---> 47\u001b[0;31m         \u001b[0mdf_towers\u001b[0m \u001b[0;34m=\u001b[0m \u001b[0mpd\u001b[0m\u001b[0;34m.\u001b[0m\u001b[0mread_sql_query\u001b[0m\u001b[0;34m(\u001b[0m\u001b[0mquery_formatted\u001b[0m\u001b[0;34m,\u001b[0m \u001b[0mcon\u001b[0m \u001b[0;34m=\u001b[0m \u001b[0mdb\u001b[0m\u001b[0;34m)\u001b[0m\u001b[0;34m\u001b[0m\u001b[0;34m\u001b[0m\u001b[0m\n\u001b[0m\u001b[1;32m     48\u001b[0m \u001b[0;34m\u001b[0m\u001b[0m\n\u001b[1;32m     49\u001b[0m         \u001b[0mquery_all\u001b[0m \u001b[0;34m=\u001b[0m \u001b[0mfile_all\u001b[0m\u001b[0;34m.\u001b[0m\u001b[0mread\u001b[0m\u001b[0;34m(\u001b[0m\u001b[0;34m)\u001b[0m\u001b[0;34m\u001b[0m\u001b[0;34m\u001b[0m\u001b[0m\n",
      "\u001b[0;32m/opt/conda/lib/python3.6/site-packages/pandas/io/sql.py\u001b[0m in \u001b[0;36mread_sql_query\u001b[0;34m(sql, con, index_col, coerce_float, params, parse_dates, chunksize)\u001b[0m\n\u001b[1;32m    312\u001b[0m     return pandas_sql.read_query(\n\u001b[1;32m    313\u001b[0m         \u001b[0msql\u001b[0m\u001b[0;34m,\u001b[0m \u001b[0mindex_col\u001b[0m\u001b[0;34m=\u001b[0m\u001b[0mindex_col\u001b[0m\u001b[0;34m,\u001b[0m \u001b[0mparams\u001b[0m\u001b[0;34m=\u001b[0m\u001b[0mparams\u001b[0m\u001b[0;34m,\u001b[0m \u001b[0mcoerce_float\u001b[0m\u001b[0;34m=\u001b[0m\u001b[0mcoerce_float\u001b[0m\u001b[0;34m,\u001b[0m\u001b[0;34m\u001b[0m\u001b[0;34m\u001b[0m\u001b[0m\n\u001b[0;32m--> 314\u001b[0;31m         parse_dates=parse_dates, chunksize=chunksize)\n\u001b[0m\u001b[1;32m    315\u001b[0m \u001b[0;34m\u001b[0m\u001b[0m\n\u001b[1;32m    316\u001b[0m \u001b[0;34m\u001b[0m\u001b[0m\n",
      "\u001b[0;32m/opt/conda/lib/python3.6/site-packages/pandas/io/sql.py\u001b[0m in \u001b[0;36mread_query\u001b[0;34m(self, sql, index_col, coerce_float, parse_dates, params, chunksize)\u001b[0m\n\u001b[1;32m   1061\u001b[0m         \u001b[0margs\u001b[0m \u001b[0;34m=\u001b[0m \u001b[0m_convert_params\u001b[0m\u001b[0;34m(\u001b[0m\u001b[0msql\u001b[0m\u001b[0;34m,\u001b[0m \u001b[0mparams\u001b[0m\u001b[0;34m)\u001b[0m\u001b[0;34m\u001b[0m\u001b[0;34m\u001b[0m\u001b[0m\n\u001b[1;32m   1062\u001b[0m \u001b[0;34m\u001b[0m\u001b[0m\n\u001b[0;32m-> 1063\u001b[0;31m         \u001b[0mresult\u001b[0m \u001b[0;34m=\u001b[0m \u001b[0mself\u001b[0m\u001b[0;34m.\u001b[0m\u001b[0mexecute\u001b[0m\u001b[0;34m(\u001b[0m\u001b[0;34m*\u001b[0m\u001b[0margs\u001b[0m\u001b[0;34m)\u001b[0m\u001b[0;34m\u001b[0m\u001b[0;34m\u001b[0m\u001b[0m\n\u001b[0m\u001b[1;32m   1064\u001b[0m         \u001b[0mcolumns\u001b[0m \u001b[0;34m=\u001b[0m \u001b[0mresult\u001b[0m\u001b[0;34m.\u001b[0m\u001b[0mkeys\u001b[0m\u001b[0;34m(\u001b[0m\u001b[0;34m)\u001b[0m\u001b[0;34m\u001b[0m\u001b[0;34m\u001b[0m\u001b[0m\n\u001b[1;32m   1065\u001b[0m \u001b[0;34m\u001b[0m\u001b[0m\n",
      "\u001b[0;32m/opt/conda/lib/python3.6/site-packages/pandas/io/sql.py\u001b[0m in \u001b[0;36mexecute\u001b[0;34m(self, *args, **kwargs)\u001b[0m\n\u001b[1;32m    952\u001b[0m     \u001b[0;32mdef\u001b[0m \u001b[0mexecute\u001b[0m\u001b[0;34m(\u001b[0m\u001b[0mself\u001b[0m\u001b[0;34m,\u001b[0m \u001b[0;34m*\u001b[0m\u001b[0margs\u001b[0m\u001b[0;34m,\u001b[0m \u001b[0;34m**\u001b[0m\u001b[0mkwargs\u001b[0m\u001b[0;34m)\u001b[0m\u001b[0;34m:\u001b[0m\u001b[0;34m\u001b[0m\u001b[0;34m\u001b[0m\u001b[0m\n\u001b[1;32m    953\u001b[0m         \u001b[0;34m\"\"\"Simple passthrough to SQLAlchemy connectable\"\"\"\u001b[0m\u001b[0;34m\u001b[0m\u001b[0;34m\u001b[0m\u001b[0m\n\u001b[0;32m--> 954\u001b[0;31m         \u001b[0;32mreturn\u001b[0m \u001b[0mself\u001b[0m\u001b[0;34m.\u001b[0m\u001b[0mconnectable\u001b[0m\u001b[0;34m.\u001b[0m\u001b[0mexecute\u001b[0m\u001b[0;34m(\u001b[0m\u001b[0;34m*\u001b[0m\u001b[0margs\u001b[0m\u001b[0;34m,\u001b[0m \u001b[0;34m**\u001b[0m\u001b[0mkwargs\u001b[0m\u001b[0;34m)\u001b[0m\u001b[0;34m\u001b[0m\u001b[0;34m\u001b[0m\u001b[0m\n\u001b[0m\u001b[1;32m    955\u001b[0m \u001b[0;34m\u001b[0m\u001b[0m\n\u001b[1;32m    956\u001b[0m     def read_table(self, table_name, index_col=None, coerce_float=True,\n",
      "\u001b[0;32m/opt/conda/lib/python3.6/site-packages/sqlalchemy/engine/base.py\u001b[0m in \u001b[0;36mexecute\u001b[0;34m(self, object, *multiparams, **params)\u001b[0m\n\u001b[1;32m    940\u001b[0m         \"\"\"\n\u001b[1;32m    941\u001b[0m         \u001b[0;32mif\u001b[0m \u001b[0misinstance\u001b[0m\u001b[0;34m(\u001b[0m\u001b[0mobject\u001b[0m\u001b[0;34m,\u001b[0m \u001b[0mutil\u001b[0m\u001b[0;34m.\u001b[0m\u001b[0mstring_types\u001b[0m\u001b[0;34m[\u001b[0m\u001b[0;36m0\u001b[0m\u001b[0;34m]\u001b[0m\u001b[0;34m)\u001b[0m\u001b[0;34m:\u001b[0m\u001b[0;34m\u001b[0m\u001b[0;34m\u001b[0m\u001b[0m\n\u001b[0;32m--> 942\u001b[0;31m             \u001b[0;32mreturn\u001b[0m \u001b[0mself\u001b[0m\u001b[0;34m.\u001b[0m\u001b[0m_execute_text\u001b[0m\u001b[0;34m(\u001b[0m\u001b[0mobject\u001b[0m\u001b[0;34m,\u001b[0m \u001b[0mmultiparams\u001b[0m\u001b[0;34m,\u001b[0m \u001b[0mparams\u001b[0m\u001b[0;34m)\u001b[0m\u001b[0;34m\u001b[0m\u001b[0;34m\u001b[0m\u001b[0m\n\u001b[0m\u001b[1;32m    943\u001b[0m         \u001b[0;32mtry\u001b[0m\u001b[0;34m:\u001b[0m\u001b[0;34m\u001b[0m\u001b[0;34m\u001b[0m\u001b[0m\n\u001b[1;32m    944\u001b[0m             \u001b[0mmeth\u001b[0m \u001b[0;34m=\u001b[0m \u001b[0mobject\u001b[0m\u001b[0;34m.\u001b[0m\u001b[0m_execute_on_connection\u001b[0m\u001b[0;34m\u001b[0m\u001b[0;34m\u001b[0m\u001b[0m\n",
      "\u001b[0;32m/opt/conda/lib/python3.6/site-packages/sqlalchemy/engine/base.py\u001b[0m in \u001b[0;36m_execute_text\u001b[0;34m(self, statement, multiparams, params)\u001b[0m\n\u001b[1;32m   1102\u001b[0m             \u001b[0mstatement\u001b[0m\u001b[0;34m,\u001b[0m\u001b[0;34m\u001b[0m\u001b[0;34m\u001b[0m\u001b[0m\n\u001b[1;32m   1103\u001b[0m             \u001b[0mparameters\u001b[0m\u001b[0;34m,\u001b[0m\u001b[0;34m\u001b[0m\u001b[0;34m\u001b[0m\u001b[0m\n\u001b[0;32m-> 1104\u001b[0;31m             \u001b[0mstatement\u001b[0m\u001b[0;34m,\u001b[0m \u001b[0mparameters\u001b[0m\u001b[0;34m\u001b[0m\u001b[0;34m\u001b[0m\u001b[0m\n\u001b[0m\u001b[1;32m   1105\u001b[0m         )\n\u001b[1;32m   1106\u001b[0m         \u001b[0;32mif\u001b[0m \u001b[0mself\u001b[0m\u001b[0;34m.\u001b[0m\u001b[0m_has_events\u001b[0m \u001b[0;32mor\u001b[0m \u001b[0mself\u001b[0m\u001b[0;34m.\u001b[0m\u001b[0mengine\u001b[0m\u001b[0;34m.\u001b[0m\u001b[0m_has_events\u001b[0m\u001b[0;34m:\u001b[0m\u001b[0;34m\u001b[0m\u001b[0;34m\u001b[0m\u001b[0m\n",
      "\u001b[0;32m/opt/conda/lib/python3.6/site-packages/sqlalchemy/engine/base.py\u001b[0m in \u001b[0;36m_execute_context\u001b[0;34m(self, dialect, constructor, statement, parameters, *args)\u001b[0m\n\u001b[1;32m   1198\u001b[0m                 \u001b[0mparameters\u001b[0m\u001b[0;34m,\u001b[0m\u001b[0;34m\u001b[0m\u001b[0;34m\u001b[0m\u001b[0m\n\u001b[1;32m   1199\u001b[0m                 \u001b[0mcursor\u001b[0m\u001b[0;34m,\u001b[0m\u001b[0;34m\u001b[0m\u001b[0;34m\u001b[0m\u001b[0m\n\u001b[0;32m-> 1200\u001b[0;31m                 context)\n\u001b[0m\u001b[1;32m   1201\u001b[0m \u001b[0;34m\u001b[0m\u001b[0m\n\u001b[1;32m   1202\u001b[0m         \u001b[0;32mif\u001b[0m \u001b[0mself\u001b[0m\u001b[0;34m.\u001b[0m\u001b[0m_has_events\u001b[0m \u001b[0;32mor\u001b[0m \u001b[0mself\u001b[0m\u001b[0;34m.\u001b[0m\u001b[0mengine\u001b[0m\u001b[0;34m.\u001b[0m\u001b[0m_has_events\u001b[0m\u001b[0;34m:\u001b[0m\u001b[0;34m\u001b[0m\u001b[0;34m\u001b[0m\u001b[0m\n",
      "\u001b[0;32m/opt/conda/lib/python3.6/site-packages/sqlalchemy/engine/base.py\u001b[0m in \u001b[0;36m_handle_dbapi_exception\u001b[0;34m(self, e, statement, parameters, cursor, context)\u001b[0m\n\u001b[1;32m   1411\u001b[0m                 util.raise_from_cause(\n\u001b[1;32m   1412\u001b[0m                     \u001b[0msqlalchemy_exception\u001b[0m\u001b[0;34m,\u001b[0m\u001b[0;34m\u001b[0m\u001b[0;34m\u001b[0m\u001b[0m\n\u001b[0;32m-> 1413\u001b[0;31m                     \u001b[0mexc_info\u001b[0m\u001b[0;34m\u001b[0m\u001b[0;34m\u001b[0m\u001b[0m\n\u001b[0m\u001b[1;32m   1414\u001b[0m                 )\n\u001b[1;32m   1415\u001b[0m             \u001b[0;32melse\u001b[0m\u001b[0;34m:\u001b[0m\u001b[0;34m\u001b[0m\u001b[0;34m\u001b[0m\u001b[0m\n",
      "\u001b[0;32m/opt/conda/lib/python3.6/site-packages/sqlalchemy/util/compat.py\u001b[0m in \u001b[0;36mraise_from_cause\u001b[0;34m(exception, exc_info)\u001b[0m\n\u001b[1;32m    263\u001b[0m     \u001b[0mexc_type\u001b[0m\u001b[0;34m,\u001b[0m \u001b[0mexc_value\u001b[0m\u001b[0;34m,\u001b[0m \u001b[0mexc_tb\u001b[0m \u001b[0;34m=\u001b[0m \u001b[0mexc_info\u001b[0m\u001b[0;34m\u001b[0m\u001b[0;34m\u001b[0m\u001b[0m\n\u001b[1;32m    264\u001b[0m     \u001b[0mcause\u001b[0m \u001b[0;34m=\u001b[0m \u001b[0mexc_value\u001b[0m \u001b[0;32mif\u001b[0m \u001b[0mexc_value\u001b[0m \u001b[0;32mis\u001b[0m \u001b[0;32mnot\u001b[0m \u001b[0mexception\u001b[0m \u001b[0;32melse\u001b[0m \u001b[0;32mNone\u001b[0m\u001b[0;34m\u001b[0m\u001b[0;34m\u001b[0m\u001b[0m\n\u001b[0;32m--> 265\u001b[0;31m     \u001b[0mreraise\u001b[0m\u001b[0;34m(\u001b[0m\u001b[0mtype\u001b[0m\u001b[0;34m(\u001b[0m\u001b[0mexception\u001b[0m\u001b[0;34m)\u001b[0m\u001b[0;34m,\u001b[0m \u001b[0mexception\u001b[0m\u001b[0;34m,\u001b[0m \u001b[0mtb\u001b[0m\u001b[0;34m=\u001b[0m\u001b[0mexc_tb\u001b[0m\u001b[0;34m,\u001b[0m \u001b[0mcause\u001b[0m\u001b[0;34m=\u001b[0m\u001b[0mcause\u001b[0m\u001b[0;34m)\u001b[0m\u001b[0;34m\u001b[0m\u001b[0;34m\u001b[0m\u001b[0m\n\u001b[0m\u001b[1;32m    266\u001b[0m \u001b[0;34m\u001b[0m\u001b[0m\n\u001b[1;32m    267\u001b[0m \u001b[0;32mif\u001b[0m \u001b[0mpy3k\u001b[0m\u001b[0;34m:\u001b[0m\u001b[0;34m\u001b[0m\u001b[0;34m\u001b[0m\u001b[0m\n",
      "\u001b[0;32m/opt/conda/lib/python3.6/site-packages/sqlalchemy/util/compat.py\u001b[0m in \u001b[0;36mreraise\u001b[0;34m(tp, value, tb, cause)\u001b[0m\n\u001b[1;32m    246\u001b[0m             \u001b[0mvalue\u001b[0m\u001b[0;34m.\u001b[0m\u001b[0m__cause__\u001b[0m \u001b[0;34m=\u001b[0m \u001b[0mcause\u001b[0m\u001b[0;34m\u001b[0m\u001b[0;34m\u001b[0m\u001b[0m\n\u001b[1;32m    247\u001b[0m         \u001b[0;32mif\u001b[0m \u001b[0mvalue\u001b[0m\u001b[0;34m.\u001b[0m\u001b[0m__traceback__\u001b[0m \u001b[0;32mis\u001b[0m \u001b[0;32mnot\u001b[0m \u001b[0mtb\u001b[0m\u001b[0;34m:\u001b[0m\u001b[0;34m\u001b[0m\u001b[0;34m\u001b[0m\u001b[0m\n\u001b[0;32m--> 248\u001b[0;31m             \u001b[0;32mraise\u001b[0m \u001b[0mvalue\u001b[0m\u001b[0;34m.\u001b[0m\u001b[0mwith_traceback\u001b[0m\u001b[0;34m(\u001b[0m\u001b[0mtb\u001b[0m\u001b[0;34m)\u001b[0m\u001b[0;34m\u001b[0m\u001b[0;34m\u001b[0m\u001b[0m\n\u001b[0m\u001b[1;32m    249\u001b[0m         \u001b[0;32mraise\u001b[0m \u001b[0mvalue\u001b[0m\u001b[0;34m\u001b[0m\u001b[0;34m\u001b[0m\u001b[0m\n\u001b[1;32m    250\u001b[0m \u001b[0;34m\u001b[0m\u001b[0m\n",
      "\u001b[0;32m/opt/conda/lib/python3.6/site-packages/sqlalchemy/engine/base.py\u001b[0m in \u001b[0;36m_execute_context\u001b[0;34m(self, dialect, constructor, statement, parameters, *args)\u001b[0m\n\u001b[1;32m   1191\u001b[0m                         \u001b[0mstatement\u001b[0m\u001b[0;34m,\u001b[0m\u001b[0;34m\u001b[0m\u001b[0;34m\u001b[0m\u001b[0m\n\u001b[1;32m   1192\u001b[0m                         \u001b[0mparameters\u001b[0m\u001b[0;34m,\u001b[0m\u001b[0;34m\u001b[0m\u001b[0;34m\u001b[0m\u001b[0m\n\u001b[0;32m-> 1193\u001b[0;31m                         context)\n\u001b[0m\u001b[1;32m   1194\u001b[0m         \u001b[0;32mexcept\u001b[0m \u001b[0mBaseException\u001b[0m \u001b[0;32mas\u001b[0m \u001b[0me\u001b[0m\u001b[0;34m:\u001b[0m\u001b[0;34m\u001b[0m\u001b[0;34m\u001b[0m\u001b[0m\n\u001b[1;32m   1195\u001b[0m             self._handle_dbapi_exception(\n",
      "\u001b[0;32m/opt/conda/lib/python3.6/site-packages/sqlalchemy/engine/default.py\u001b[0m in \u001b[0;36mdo_execute\u001b[0;34m(self, cursor, statement, parameters, context)\u001b[0m\n\u001b[1;32m    507\u001b[0m \u001b[0;34m\u001b[0m\u001b[0m\n\u001b[1;32m    508\u001b[0m     \u001b[0;32mdef\u001b[0m \u001b[0mdo_execute\u001b[0m\u001b[0;34m(\u001b[0m\u001b[0mself\u001b[0m\u001b[0;34m,\u001b[0m \u001b[0mcursor\u001b[0m\u001b[0;34m,\u001b[0m \u001b[0mstatement\u001b[0m\u001b[0;34m,\u001b[0m \u001b[0mparameters\u001b[0m\u001b[0;34m,\u001b[0m \u001b[0mcontext\u001b[0m\u001b[0;34m=\u001b[0m\u001b[0;32mNone\u001b[0m\u001b[0;34m)\u001b[0m\u001b[0;34m:\u001b[0m\u001b[0;34m\u001b[0m\u001b[0;34m\u001b[0m\u001b[0m\n\u001b[0;32m--> 509\u001b[0;31m         \u001b[0mcursor\u001b[0m\u001b[0;34m.\u001b[0m\u001b[0mexecute\u001b[0m\u001b[0;34m(\u001b[0m\u001b[0mstatement\u001b[0m\u001b[0;34m,\u001b[0m \u001b[0mparameters\u001b[0m\u001b[0;34m)\u001b[0m\u001b[0;34m\u001b[0m\u001b[0;34m\u001b[0m\u001b[0m\n\u001b[0m\u001b[1;32m    510\u001b[0m \u001b[0;34m\u001b[0m\u001b[0m\n\u001b[1;32m    511\u001b[0m     \u001b[0;32mdef\u001b[0m \u001b[0mdo_execute_no_params\u001b[0m\u001b[0;34m(\u001b[0m\u001b[0mself\u001b[0m\u001b[0;34m,\u001b[0m \u001b[0mcursor\u001b[0m\u001b[0;34m,\u001b[0m \u001b[0mstatement\u001b[0m\u001b[0;34m,\u001b[0m \u001b[0mcontext\u001b[0m\u001b[0;34m=\u001b[0m\u001b[0;32mNone\u001b[0m\u001b[0;34m)\u001b[0m\u001b[0;34m:\u001b[0m\u001b[0;34m\u001b[0m\u001b[0;34m\u001b[0m\u001b[0m\n",
      "\u001b[0;31mOperationalError\u001b[0m: (psycopg2.OperationalError) server closed the connection unexpectedly\n\tThis probably means the server terminated abnormally\n\tbefore or while processing the request.\n [SQL: \"SELECT * FROM (\\n    SELECT S1.centroid,\\n    S1.latitude AS latitude_1,\\n    S1.longitude AS longitude_1,\\n    S1.tower_height as tower_height_1,\\n    S2.tower_id AS tower_id_2,\\n    S2.latitude AS latitude_2,\\n    S2.longitude AS longitude_2,\\n    S2.tower_height AS tower_height_2,\\n    S2.source AS owner_2,\\n    ST_Distance(S1.geom, ST_Transform(S2.geom,3857)) AS distance\\n    FROM (SELECT A.centroid,\\n    COALESCE(I.latitude, S.latitude) AS latitude,\\n    COALESCE(I.longitude, S.longitude) AS longitude,\\n    COALESCE(I.tower_height, 50) AS tower_height,\\n    ST_Transform(COALESCE(I.geom, S.geom),3857) AS geom\\n    FROM (SELECT * FROM rural_planner_dev.clusters) A\\n    LEFT JOIN rural_planner_dev.infrastructure_global i\\n    ON A.centroid=i.tower_id::text\\n    LEFT JOIN rural_planner_dev.settlements s\\n    ON A.centroid=s.settlement_id\\n    LEFT JOIN (SELECT tower_id::TEXT as centroid,                \\n                    vivo_transport_id,\\n                    distance_vivo_transport_m,\\n                    line_of_sight_vivo,\\n                    additional_height_tower_1_vivo_m,\\n                    additional_height_tower_2_vivo_m,\\n                    backhaul_vivo,\\n                    regional_transport_id,\\n                    distance_regional_transport_m,\\n                    line_of_sight_regional,\\n                    additional_height_tower_1_regional_m,\\n                    additional_height_tower_2_regional_m,\\n                    backhaul_regional,\\n                    third_party_transport_id,\\n                    distance_third_party_transport_m,\\n                    line_of_sight_third_party,\\n                    additional_height_tower_1_third_party_m,\\n                    additional_height_tower_2_third_party_m,\\n                    backhaul_third_party,\\n                    geom_tower,\\n                    geom_vivo,\\n                    geom_regional,\\n                    geom_third_party,\\n                    geom_line_vivo,\\n                    geom_line_regional,\\n                    geom_line_third_party\\n                    FROM rural_planner_dev.transport_by_tower_all\\n                    UNION                \\n                    SELECT * FROM rural_planner_dev.transport_greenfield_clusters) T\\n    ON T.centroid=A.centroid\\n    WHERE (T.line_of_sight_vivo IS FALSE AND T.line_of_sight_regional IS FALSE AND T.line_of_sight_third_party IS FALSE)\\n    AND (T.distance_vivo_transport_m>5000 AND T.distance_regional_transport_m>5000 \\n    AND T.distance_third_party_transport_m>5000)\\n     OR (T.distance_vivo_transport_m IS NULL AND T.distance_regional_transport_m IS NULL AND T.distance_third_party_transport_m IS NULL)) S1\\n    LEFT JOIN (SELECT I.tower_id::text,\\n    I.latitude,\\n    I.longitude,\\n    I.tower_height,\\n    I.source ,\\n    I.geom\\n    FROM rural_planner_dev.infrastructure_global I\\n    LEFT JOIN rural_planner_dev.transport_by_tower_all T\\n    on I.tower_id=T.tower_id\\n    WHERE source NOT LIKE '%%LINES%%' AND (T.line_of_sight_vivo IS TRUE OR T.line_of_sight_regional IS TRUE OR T.line_of_sight_third_party IS TRUE)\\n    AND tower_height>0\\n) S2\\nON ST_DWithin(S1.geom,ST_Transform(S2.geom,3857), 40000)) B\\nORDER BY centroid, distance DESC--, line_of_sight_vivo DESC, line_of_sight_regional DESC, line_of_sight_third_party DESC\"] (Background on this error at: http://sqlalche.me/e/e3q8)"
     ]
    }
   ],
   "source": [
    "## Get viable intermediate hops for clusters with no tx (not based on owner, just one set of columns)\n",
    "\n",
    "owners = ''\n",
    "owner_name = 'intermediate_hops'\n",
    "query_path = sql_path + '/' + country_folder + '/' + 'transport_multihop_load_inputs.sql'\n",
    "query_path_all = sql_path + '/' + country_folder + '/' + 'transport_multihop_load_all_inputs.sql'\n",
    "\n",
    "df_output = transport_by_tower_owner(parser, owners, owner_name, query_path, query_path_all, column_name = 'centroid')"
   ]
  },
  {
   "cell_type": "code",
   "execution_count": 84,
   "metadata": {},
   "outputs": [],
   "source": [
    "#Re-shape data frames\n",
    "#Round doubles\n",
    "df_output.additional_height_tower_1_intermediate_hop = df_output.additional_height_tower_1_intermediate_hop.round()\n",
    "df_output.additional_height_tower_2_intermediate_hop = df_output.additional_height_tower_2_intermediate_hop.round()"
   ]
  },
  {
   "cell_type": "code",
   "execution_count": 85,
   "metadata": {},
   "outputs": [],
   "source": [
    "#Export output\n",
    "\n",
    "query_path = sql_path + '/' + country_folder + '/' + 'transport_multihop_add_tx.sql'\n",
    "\n",
    "with open(query_path) as file, database(config_path) as db:    \n",
    "    df_output.to_sql(temporary_table, con=db, if_exists = 'replace', schema = schema, index = False, \n",
    "                dtype = {'centroid': sqlalchemy.types.String(),\n",
    "                         'intermediate_hop_id': sqlalchemy.types.Integer(),\n",
    "                         'distance_intermediate_hop_m': sqlalchemy.types.Integer(),\n",
    "                         'line_of_sight_intermediate_hop': sqlalchemy.types.Boolean(),\n",
    "                         'additional_height_tower_1_intermediate_hop_m': sqlalchemy.types.Integer(),\n",
    "                         'additional_height_tower_2_intermediate_hop_m': sqlalchemy.types.Integer()\n",
    "                        })\n",
    "    query = file.read()\n",
    "    query_formatted = query.format(schema = schema,\n",
    "                                   output_table = output_table,\n",
    "                                   temporary_table = temporary_table,\n",
    "                                   transport_table = transport_table,\n",
    "                                   tef_alias = tef_alias)\n",
    "    db.execute(query_formatted)"
   ]
  }
 ],
 "metadata": {
  "kernelspec": {
   "display_name": "Python 3",
   "language": "python",
   "name": "python3"
  },
  "language_info": {
   "codemirror_mode": {
    "name": "ipython",
    "version": 3
   },
   "file_extension": ".py",
   "mimetype": "text/x-python",
   "name": "python",
   "nbconvert_exporter": "python",
   "pygments_lexer": "ipython3",
   "version": "3.6.7"
  }
 },
 "nbformat": 4,
 "nbformat_minor": 1
}
