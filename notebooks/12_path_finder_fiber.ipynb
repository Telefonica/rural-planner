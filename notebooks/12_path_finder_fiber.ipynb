{
 "cells": [
  {
   "cell_type": "code",
   "execution_count": 1,
   "metadata": {},
   "outputs": [],
   "source": [
    "# Load libraries\n",
    "import networkx as nx\n",
    "from networkx import *\n",
    "import pandas as pd\n",
    "import numpy as np\n",
    "import math\n",
    "import psycopg2\n",
    "import sys\n",
    "from pandas.io import sql\n",
    "import sqlalchemy\n",
    "import os\n",
    "from sqlalchemy import create_engine, text\n",
    "from sqlalchemy.types import INTEGER\n",
    "from datetime import datetime\n",
    "from configobj import ConfigObj\n",
    "from tqdm.notebook import tqdm\n",
    "tqdm.pandas()\n",
    "\n",
    "module_path = os.path.abspath(os.path.join('..'))\n",
    "if module_path not in sys.path:\n",
    "    sys.path.append(module_path)\n",
    "    \n",
    "from functions.path_finder import solve_fiber_path\n",
    "from functions.utils import database"
   ]
  },
  {
   "cell_type": "code",
   "execution_count": 6,
   "metadata": {},
   "outputs": [],
   "source": [
    "#Database connection information\n",
    "config_path = \"/home/jovyan/shared/rural_planner_refactoring/config_files/config_pe\"\n",
    "\n",
    "parser = ConfigObj(config_path)\n",
    "\n",
    "sql_path = parser['sql_path']\n",
    "country_folder = parser['country_folder']\n",
    "\n",
    "owners = dict(parser['path_finder_fiber']['owners'])\n",
    "ultra_qw_radius = int(parser['path_finder_fiber']['ultra_qw_radius'])\n",
    "fiber_origin_radius = int(parser['path_finder_fiber']['fiber_origin_radius'])\n",
    "\n",
    "schema = parser['path_finder_fiber']['schema']\n",
    "table_towers      = parser['transport_by_tower_params']['table_infrastructure']\n",
    "table_edges       = parser['path_finder_roads_params']['table_edges_roads']\n",
    "table_nodes       = parser['path_finder_roads_params']['table_nodes_roads']\n",
    "table_cluster_node_map = parser['path_finder_roads_params']['table_cluster_node_map']\n",
    "table_clusters    = parser['clustering_params']['output_table']\n",
    "table_planned_fiber_nodes =  parser['path_finder_fiber']['planned_fiber_nodes_table']\n",
    "table_fiber_node_map = parser['path_finder_fiber']['fiber_node_map_table']\n",
    "table_initial_quick_wins = parser['path_finder_fiber']['initial_qw_table']\n",
    "output_table = parser['path_finder_fiber']['output_table']\n",
    "final_table = parser['path_finder_fiber']['final_table']"
   ]
  },
  {
   "cell_type": "code",
   "execution_count": 8,
   "metadata": {},
   "outputs": [],
   "source": [
    "#Load edges\n",
    "query_path = sql_path + '/' + country_folder + '/' + 'path_finder_fiber_load_edges.sql'\n",
    "\n",
    "with open(query_path) as file, database(parser) as db:\n",
    "    query = file.read()\n",
    "    query_formatted = query.format(schema = schema, table_edges = table_edges, table_nodes = table_nodes)\n",
    "    df_edges = pd.read_sql_query(query_formatted, con = db)"
   ]
  },
  {
   "cell_type": "code",
   "execution_count": null,
   "metadata": {},
   "outputs": [],
   "source": [
    "#We create the initial quick wins table\n",
    "query_path = sql_path + '/' + country_folder + '/' + 'path_finder_fiber_create_qw.sql'\n",
    "\n",
    "with open(query_path) as file, database(parser) as db:\n",
    "    query = file.read()\n",
    "    query_formatted = query.format(schema = schema,\n",
    "                                   table_initial_quick_wins = table_initial_quick_wins,\n",
    "                                   table_towers = table_towers,\n",
    "                                   output_table = output_table,\n",
    "                                   radius = ultra_qw_radius)\n",
    "    db.execute(query_formatted)"
   ]
  },
  {
   "cell_type": "code",
   "execution_count": 47,
   "metadata": {},
   "outputs": [],
   "source": [
    "#Load all fiber nodes and terminal nodes\n",
    "query_path_fiber = sql_path + '/' + country_folder + '/' + 'path_finder_fiber_load_fiber.sql'\n",
    "query_path_terminal = sql_path + '/' + country_folder + '/' + 'path_finder_fiber_load_terminal_nodes.sql'\n",
    "\n",
    "with open(query_path_fiber) as file_fiber, open(query_path_terminal) as file_terminal, database(parser) as db:\n",
    "    query = file_fiber.read()\n",
    "    query_formatted = query.format(schema = schema,\n",
    "                                   table_initial_quick_wins = table_initial_quick_wins,\n",
    "                                   table_towers = table_towers,\n",
    "                                   output_table = output_table,\n",
    "                                   radius = ultra_qw_radius,\n",
    "                                   table_edges = table_edges,\n",
    "                                   table_nodes = table_nodes)\n",
    "    df_edges_fiber = pd.read_sql_query(query_formatted, con = db)\n",
    "    #We create the mapping between nodes and fiber towers\n",
    "    df_edges_fiber[['node_1', 'tower_id']].drop_duplicates(['node_1', 'tower_id']).to_sql(table_fiber_node_map, con=db, if_exists = 'replace', schema = schema, index = False)\n",
    "    \n",
    "    query = file_terminal.read()\n",
    "    query_formatted = query.format(schema = schema,\n",
    "                                   table_towers = table_towers,\n",
    "                                   table_nodes = table_nodes,\n",
    "                                   table_clusters = table_clusters,\n",
    "                                   table_cluster_node_map = table_cluster_node_map,\n",
    "                                   table_initial_quick_wins = table_initial_quick_wins)\n",
    "    df_terminal_nodes = pd.read_sql_query(query_formatted, con = db)"
   ]
  },
  {
   "cell_type": "code",
   "execution_count": 122,
   "metadata": {},
   "outputs": [],
   "source": [
    "# Create graph with edge table info and separate in subgraphs (independent graphs connecting all the available edges)\n",
    "G = nx.Graph()\n",
    "\n",
    "# Create edges\n",
    "\n",
    "for z in range(0, len(df_edges)):\n",
    "    G.add_edge(str(int(df_edges['node_1'].iloc[z])),\n",
    "               str(int(df_edges['node_2'].iloc[z])),\n",
    "               weight = df_edges['weight'].iloc[z])\n",
    "    \n",
    "graphs = list(nx.connected_component_subgraphs(G))"
   ]
  },
  {
   "cell_type": "code",
   "execution_count": 202,
   "metadata": {},
   "outputs": [
    {
     "name": "stderr",
     "output_type": "stream",
     "text": [
      "/opt/conda/lib/python3.6/site-packages/ipykernel_launcher.py:17: DeprecationWarning: \n",
      ".ix is deprecated. Please use\n",
      ".loc for label based indexing or\n",
      ".iloc for positional indexing\n",
      "\n",
      "See the documentation here:\n",
      "http://pandas.pydata.org/pandas-docs/stable/indexing.html#ix-indexer-is-deprecated\n",
      "/opt/conda/lib/python3.6/site-packages/ipykernel_launcher.py:20: DeprecationWarning: \n",
      ".ix is deprecated. Please use\n",
      ".loc for label based indexing or\n",
      ".iloc for positional indexing\n",
      "\n",
      "See the documentation here:\n",
      "http://pandas.pydata.org/pandas-docs/stable/indexing.html#ix-indexer-is-deprecated\n",
      "/opt/conda/lib/python3.6/site-packages/ipykernel_launcher.py:29: DeprecationWarning: \n",
      ".ix is deprecated. Please use\n",
      ".loc for label based indexing or\n",
      ".iloc for positional indexing\n",
      "\n",
      "See the documentation here:\n",
      "http://pandas.pydata.org/pandas-docs/stable/indexing.html#ix-indexer-is-deprecated\n",
      "/opt/conda/lib/python3.6/site-packages/ipykernel_launcher.py:37: DeprecationWarning: \n",
      ".ix is deprecated. Please use\n",
      ".loc for label based indexing or\n",
      ".iloc for positional indexing\n",
      "\n",
      "See the documentation here:\n",
      "http://pandas.pydata.org/pandas-docs/stable/indexing.html#ix-indexer-is-deprecated\n"
     ]
    },
    {
     "data": {
      "application/vnd.jupyter.widget-view+json": {
       "model_id": "d2ae35fb30a54eeca89f350b9c51c0b4",
       "version_major": 2,
       "version_minor": 0
      },
      "text/plain": [
       "HBox(children=(FloatProgress(value=0.0, max=1488.0), HTML(value='')))"
      ]
     },
     "metadata": {},
     "output_type": "display_data"
    },
    {
     "name": "stdout",
     "output_type": "stream",
     "text": [
      "\n",
      "movistar processed.\n"
     ]
    },
    {
     "data": {
      "application/vnd.jupyter.widget-view+json": {
       "model_id": "c3f4f4017c574935911a9258b62f528f",
       "version_major": 2,
       "version_minor": 0
      },
      "text/plain": [
       "HBox(children=(FloatProgress(value=0.0, max=1488.0), HTML(value='')))"
      ]
     },
     "metadata": {},
     "output_type": "display_data"
    },
    {
     "name": "stdout",
     "output_type": "stream",
     "text": [
      "\n",
      "azteca processed.\n"
     ]
    },
    {
     "data": {
      "application/vnd.jupyter.widget-view+json": {
       "model_id": "639b43991eca4e28a4f84c78ec1b1578",
       "version_major": 2,
       "version_minor": 0
      },
      "text/plain": [
       "HBox(children=(FloatProgress(value=0.0, max=1488.0), HTML(value='')))"
      ]
     },
     "metadata": {},
     "output_type": "display_data"
    },
    {
     "name": "stdout",
     "output_type": "stream",
     "text": [
      "\n",
      "regional processed.\n"
     ]
    },
    {
     "data": {
      "application/vnd.jupyter.widget-view+json": {
       "model_id": "5c9e6950e1844b65b47a5c6326bb2eb0",
       "version_major": 2,
       "version_minor": 0
      },
      "text/plain": [
       "HBox(children=(FloatProgress(value=0.0, max=1488.0), HTML(value='')))"
      ]
     },
     "metadata": {},
     "output_type": "display_data"
    },
    {
     "name": "stdout",
     "output_type": "stream",
     "text": [
      "\n",
      "third_party processed.\n"
     ]
    },
    {
     "data": {
      "application/vnd.jupyter.widget-view+json": {
       "model_id": "c5eb02e4d41c4b78b6279adec1a69b10",
       "version_major": 2,
       "version_minor": 0
      },
      "text/plain": [
       "HBox(children=(FloatProgress(value=0.0, max=3.0), HTML(value='')))"
      ]
     },
     "metadata": {},
     "output_type": "display_data"
    },
    {
     "name": "stdout",
     "output_type": "stream",
     "text": [
      "\n",
      "movistar processed.\n"
     ]
    },
    {
     "data": {
      "application/vnd.jupyter.widget-view+json": {
       "model_id": "0e781461fc914d5da7ac6954114a1880",
       "version_major": 2,
       "version_minor": 0
      },
      "text/plain": [
       "HBox(children=(FloatProgress(value=0.0, max=3.0), HTML(value='')))"
      ]
     },
     "metadata": {},
     "output_type": "display_data"
    },
    {
     "name": "stdout",
     "output_type": "stream",
     "text": [
      "\n",
      "azteca processed.\n"
     ]
    },
    {
     "data": {
      "application/vnd.jupyter.widget-view+json": {
       "model_id": "340b73f52ff9491a8ca29af216e45ecb",
       "version_major": 2,
       "version_minor": 0
      },
      "text/plain": [
       "HBox(children=(FloatProgress(value=0.0, max=3.0), HTML(value='')))"
      ]
     },
     "metadata": {},
     "output_type": "display_data"
    },
    {
     "name": "stdout",
     "output_type": "stream",
     "text": [
      "\n",
      "regional processed.\n"
     ]
    },
    {
     "data": {
      "application/vnd.jupyter.widget-view+json": {
       "model_id": "938414470c534400826bc6ac507bd71f",
       "version_major": 2,
       "version_minor": 0
      },
      "text/plain": [
       "HBox(children=(FloatProgress(value=0.0, max=3.0), HTML(value='')))"
      ]
     },
     "metadata": {},
     "output_type": "display_data"
    },
    {
     "name": "stdout",
     "output_type": "stream",
     "text": [
      "\n",
      "third_party processed.\n"
     ]
    },
    {
     "data": {
      "application/vnd.jupyter.widget-view+json": {
       "model_id": "dc362ebf65a14f7984daae1a75a68b83",
       "version_major": 2,
       "version_minor": 0
      },
      "text/plain": [
       "HBox(children=(FloatProgress(value=0.0, max=1.0), HTML(value='')))"
      ]
     },
     "metadata": {},
     "output_type": "display_data"
    },
    {
     "name": "stdout",
     "output_type": "stream",
     "text": [
      "\n",
      "movistar processed.\n"
     ]
    },
    {
     "data": {
      "application/vnd.jupyter.widget-view+json": {
       "model_id": "83e20b2bd18c4f25ae0cf8ead279c015",
       "version_major": 2,
       "version_minor": 0
      },
      "text/plain": [
       "HBox(children=(FloatProgress(value=0.0, max=1.0), HTML(value='')))"
      ]
     },
     "metadata": {},
     "output_type": "display_data"
    },
    {
     "name": "stdout",
     "output_type": "stream",
     "text": [
      "\n",
      "azteca processed.\n"
     ]
    },
    {
     "data": {
      "application/vnd.jupyter.widget-view+json": {
       "model_id": "e3e29b826c674f5eb9a30a198d317f85",
       "version_major": 2,
       "version_minor": 0
      },
      "text/plain": [
       "HBox(children=(FloatProgress(value=0.0, max=1.0), HTML(value='')))"
      ]
     },
     "metadata": {},
     "output_type": "display_data"
    },
    {
     "name": "stdout",
     "output_type": "stream",
     "text": [
      "\n",
      "regional processed.\n"
     ]
    },
    {
     "data": {
      "application/vnd.jupyter.widget-view+json": {
       "model_id": "e6468c04e3ad4c73933db0da45488ff5",
       "version_major": 2,
       "version_minor": 0
      },
      "text/plain": [
       "HBox(children=(FloatProgress(value=0.0, max=1.0), HTML(value='')))"
      ]
     },
     "metadata": {},
     "output_type": "display_data"
    },
    {
     "name": "stdout",
     "output_type": "stream",
     "text": [
      "\n",
      "third_party processed.\n"
     ]
    },
    {
     "data": {
      "application/vnd.jupyter.widget-view+json": {
       "model_id": "0619108e21a045928620d40b17d6ced3",
       "version_major": 2,
       "version_minor": 0
      },
      "text/plain": [
       "HBox(children=(FloatProgress(value=0.0, max=4.0), HTML(value='')))"
      ]
     },
     "metadata": {},
     "output_type": "display_data"
    },
    {
     "name": "stdout",
     "output_type": "stream",
     "text": [
      "\n",
      "movistar processed.\n"
     ]
    },
    {
     "data": {
      "application/vnd.jupyter.widget-view+json": {
       "model_id": "fe1872cb20d34db7958bd82cb730dca2",
       "version_major": 2,
       "version_minor": 0
      },
      "text/plain": [
       "HBox(children=(FloatProgress(value=0.0, max=4.0), HTML(value='')))"
      ]
     },
     "metadata": {},
     "output_type": "display_data"
    },
    {
     "name": "stdout",
     "output_type": "stream",
     "text": [
      "\n",
      "azteca processed.\n"
     ]
    },
    {
     "data": {
      "application/vnd.jupyter.widget-view+json": {
       "model_id": "e824bae60479453192143f7800b34acf",
       "version_major": 2,
       "version_minor": 0
      },
      "text/plain": [
       "HBox(children=(FloatProgress(value=0.0, max=4.0), HTML(value='')))"
      ]
     },
     "metadata": {},
     "output_type": "display_data"
    },
    {
     "name": "stdout",
     "output_type": "stream",
     "text": [
      "\n",
      "regional processed.\n"
     ]
    },
    {
     "data": {
      "application/vnd.jupyter.widget-view+json": {
       "model_id": "c7c2414ebc0c437f8397ae4f67020502",
       "version_major": 2,
       "version_minor": 0
      },
      "text/plain": [
       "HBox(children=(FloatProgress(value=0.0, max=4.0), HTML(value='')))"
      ]
     },
     "metadata": {},
     "output_type": "display_data"
    },
    {
     "name": "stdout",
     "output_type": "stream",
     "text": [
      "\n",
      "third_party processed.\n"
     ]
    },
    {
     "data": {
      "application/vnd.jupyter.widget-view+json": {
       "model_id": "38c28f737c574fda8f1f1baacf94f772",
       "version_major": 2,
       "version_minor": 0
      },
      "text/plain": [
       "HBox(children=(FloatProgress(value=0.0, max=2.0), HTML(value='')))"
      ]
     },
     "metadata": {},
     "output_type": "display_data"
    },
    {
     "name": "stdout",
     "output_type": "stream",
     "text": [
      "\n",
      "movistar processed.\n"
     ]
    },
    {
     "data": {
      "application/vnd.jupyter.widget-view+json": {
       "model_id": "3d79bc49997447b497188ac1c8189aea",
       "version_major": 2,
       "version_minor": 0
      },
      "text/plain": [
       "HBox(children=(FloatProgress(value=0.0, max=2.0), HTML(value='')))"
      ]
     },
     "metadata": {},
     "output_type": "display_data"
    },
    {
     "name": "stdout",
     "output_type": "stream",
     "text": [
      "\n",
      "azteca processed.\n"
     ]
    },
    {
     "data": {
      "application/vnd.jupyter.widget-view+json": {
       "model_id": "cdcf272c01eb47d3a73969600f18517a",
       "version_major": 2,
       "version_minor": 0
      },
      "text/plain": [
       "HBox(children=(FloatProgress(value=0.0, max=2.0), HTML(value='')))"
      ]
     },
     "metadata": {},
     "output_type": "display_data"
    },
    {
     "name": "stdout",
     "output_type": "stream",
     "text": [
      "\n",
      "regional processed.\n"
     ]
    },
    {
     "data": {
      "application/vnd.jupyter.widget-view+json": {
       "model_id": "ecca00c105da48408f89989fcdbdd186",
       "version_major": 2,
       "version_minor": 0
      },
      "text/plain": [
       "HBox(children=(FloatProgress(value=0.0, max=2.0), HTML(value='')))"
      ]
     },
     "metadata": {},
     "output_type": "display_data"
    },
    {
     "name": "stdout",
     "output_type": "stream",
     "text": [
      "\n",
      "third_party processed.\n"
     ]
    }
   ],
   "source": [
    "#Calculate fiber paths\n",
    "\n",
    "all_terminal_nodes = df_terminal_nodes['node_id'].astype(int).astype(str).tolist()\n",
    "\n",
    "df_output = pd.DataFrame({'node_id': all_terminal_nodes})\n",
    "\n",
    "#One iteration for every connected independent subgraph\n",
    "for k in range(0, len(graphs)):\n",
    "    \n",
    "    #Take one of the connected subgraphs and turn it into a data frame\n",
    "    G1 = graphs[k]\n",
    "    \n",
    "    nodes_subgraph = list(G1.nodes())\n",
    "    \n",
    "    terminal_nodes = { node for node in all_terminal_nodes if node in nodes_subgraph}\n",
    "    terminal_nodes = list(terminal_nodes)\n",
    "    \n",
    "    #This is the data frame with the edges associated to the fiber\n",
    "    df_edges_fiber_all = df_edges_fiber.ix[df_edges_fiber['node_2'].isin(nodes_subgraph),]\n",
    "    \n",
    "    #We add the edges associated to fiber nodes to the current subgraph\n",
    "    for z in range(0, len(df_edges_fiber_all)):\n",
    "        G1.add_edge(str(int(df_edges_fiber_all['node_2'].iloc[z])),\n",
    "                   str(int(df_edges_fiber_all['node_1'].iloc[z])),\n",
    "                   weight = df_edges_fiber_all['weight'].iloc[z])\n",
    "    \n",
    "    if len(terminal_nodes)>0:\n",
    "        #Calculate optimal path for every terminal node with Dijkstra's algorithm\n",
    "        df_output_subgraph = pd.DataFrame({'node_id': terminal_nodes})\n",
    "\n",
    "        for owner in owners.keys():    \n",
    "            df_edges_fiber_owner =  df_edges_fiber_all.ix[df_edges_fiber_all['source'].isin(owners[owner]['sources'])]\n",
    "            fiber_nodes_owner = df_edges_fiber_owner['node_1'].astype(int).astype(str).tolist()\n",
    "\n",
    "            # calculate optimal fiber path per owner\n",
    "            df_output_subgraph = df_output_subgraph.join(df_output_subgraph.progress_apply(solve_fiber_path, axis=1, args=(owner, fiber_nodes_owner, G1)))\n",
    "            print(str(owner)+ ' processed.')   \n",
    "\n",
    "        df_output = df_output.append(df_output_subgraph)     \n",
    "        del df_output_subgraph"
   ]
  },
  {
   "cell_type": "code",
   "execution_count": 283,
   "metadata": {},
   "outputs": [],
   "source": [
    "output_cols = list(['node_id'])\n",
    "\n",
    "for owner in owners.keys():\n",
    "    owners_cols = list(['length_' + owner,\n",
    "                   'path_' + owner, \n",
    "                   'fiber_node_' + owner])\n",
    "    output_cols.extend(owners_cols)\n",
    "    \n",
    "sort_cols = ['node_id']\n",
    "sort_cols.extend(['fiber_node_'+owner for owner in owners.keys()])\n",
    "\n",
    "df_output = df_output[output_cols].sort_values(sort_cols).drop_duplicates('node_id').reset_index(drop = True)"
   ]
  },
  {
   "cell_type": "code",
   "execution_count": 297,
   "metadata": {},
   "outputs": [
    {
     "name": "stderr",
     "output_type": "stream",
     "text": [
      "/opt/conda/lib/python3.6/site-packages/sqlalchemy/dialects/postgresql/base.py:2690: SAWarning: Did not recognize type 'geometry' of column 'geom_movistar'\n",
      "  (attype, name))\n",
      "/opt/conda/lib/python3.6/site-packages/sqlalchemy/dialects/postgresql/base.py:2690: SAWarning: Did not recognize type 'geometry' of column 'geom_azteca'\n",
      "  (attype, name))\n",
      "/opt/conda/lib/python3.6/site-packages/sqlalchemy/dialects/postgresql/base.py:2690: SAWarning: Did not recognize type 'geometry' of column 'geom_regional'\n",
      "  (attype, name))\n",
      "/opt/conda/lib/python3.6/site-packages/sqlalchemy/dialects/postgresql/base.py:2690: SAWarning: Did not recognize type 'geometry' of column 'geom_third_party'\n",
      "  (attype, name))\n"
     ]
    }
   ],
   "source": [
    "##export, replace arrays limits, cast variables to int/float, create geoms\n",
    "\n",
    "query_path_export = sql_path + '/' + country_folder + '/' + 'path_finder_fiber_export.sql'\n",
    "query_path_final = sql_path + '/' + country_folder + '/' + 'path_finder_fiber_final_table.sql'\n",
    "\n",
    "with open(query_path_export) as file_export, open(query_path_final) as file_final, database(parser) as db:\n",
    "    df_output.to_sql(output_table, con=db, if_exists = 'replace', schema = schema, index = False)\n",
    "    query = file_export.read()\n",
    "    query_formatted = query.format(schema = schema,\n",
    "                                   output_table = output_table,\n",
    "                                   table_nodes = table_nodes,\n",
    "                                   table_cluster_node_map = table_cluster_node_map,\n",
    "                                   table_clusters = table_clusters,\n",
    "                                   table_towers = table_towers,\n",
    "                                   table_initial_quick_wins = table_initial_quick_wins)\n",
    "    db.execute(query_formatted)\n",
    "    # Create final output\n",
    "    query = file_final.read()\n",
    "    query_formatted = query.format(schema = schema,\n",
    "                                   final_table = final_table,\n",
    "                                   table_clusters = table_clusters,\n",
    "                                   table_cluster_node_map = table_cluster_node_map,\n",
    "                                   table_towers = table_towers,\n",
    "                                   output_table = output_table,\n",
    "                                   table_nodes = table_nodes,\n",
    "                                   table_initial_quick_wins = table_initial_quick_wins)\n",
    "    db.execute(query_formatted)"
   ]
  }
 ],
 "metadata": {
  "kernelspec": {
   "display_name": "Python 3",
   "language": "python",
   "name": "python3"
  },
  "language_info": {
   "codemirror_mode": {
    "name": "ipython",
    "version": 3
   },
   "file_extension": ".py",
   "mimetype": "text/x-python",
   "name": "python",
   "nbconvert_exporter": "python",
   "pygments_lexer": "ipython3",
   "version": "3.6.7"
  }
 },
 "nbformat": 4,
 "nbformat_minor": 2
}
