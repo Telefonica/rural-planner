{
 "cells": [
  {
   "cell_type": "code",
   "execution_count": 2,
   "metadata": {},
   "outputs": [],
   "source": [
    "#Load libraries\n",
    "import pandas as pd\n",
    "from configobj import ConfigObj\n",
    "import os\n",
    "import sys\n",
    "import math\n",
    "import sqlalchemy\n",
    "\n",
    "module_path = os.path.abspath(os.path.join('..'))\n",
    "if module_path not in sys.path:\n",
    "    sys.path.append(module_path)\n",
    "    \n",
    "from functions.transport_by_tower_multihop import transport_by_tower_multihop\n",
    "from functions.utils import print_full, elevation_google, database"
   ]
  },
  {
   "cell_type": "code",
   "execution_count": null,
   "metadata": {},
   "outputs": [],
   "source": [
    "## define paths and variables\n",
    "\n",
    "config_path = \"/home/jovyan/shared/rural_planner_refactoring/config_files/config_br\"\n",
    "\n",
    "parser = ConfigObj(config_path)\n",
    "\n",
    "sql_path =  parser['sql_path']\n",
    "country_folder = parser['country_folder']\n",
    "schema = parser['transport_multihop_params']['schema']\n",
    "\n",
    "\n",
    "output_table = parser['transport_multihop_params']['output_table']\n",
    "temporary_table = parser['transport_multihop_params']['temporary_table']\n",
    "table_towers = parser['transport_by_tower_params']['table_infrastructure']\n",
    "table_clusters = parser['clustering_params']['output_table']\n",
    "table_clusters_3g = parser['clustering_3g_params']['output_table']\n",
    "table_settlements = parser['clustering_params']['table_settlements']\n",
    "table_transport = parser['transport_by_tower_params']['output_table']\n",
    "table_transport_clusters = parser['transport_gf_cl_params']['output_table']\n",
    "\n",
    "sources_omit = parser['transport_by_tower_params']['sources_omit']\n",
    "owners_tx = dict(parser['transport_by_tower_params']['owners_tx'])\n",
    "\n",
    "tef_alias = (owners_tx.keys() - (regional_owners + third_party_owners)).pop()\n",
    "\n",
    "fiber_radius = int(parser['transport_by_tower_params']['fiber_radius']) "
   ]
  },
  {
   "cell_type": "code",
   "execution_count": 80,
   "metadata": {},
   "outputs": [],
   "source": [
    "## Get viable intermediate hops for clusters with no tx (not based on owner, just one set of columns)\n",
    "\n",
    "owners = ''\n",
    "owner_name = 'intermediate_hops'\n",
    "query_path = sql_path + '/' + country_folder + '/' + 'transport_multihop_load_inputs.sql'\n",
    "query_path_all = sql_path + '/' + country_folder + '/' + 'transport_multihop_load_all_inputs.sql'\n",
    "\n",
    "df_output = transport_by_tower_owner(parser, owners, owner_name, query_path, query_path_all, column_name = 'centroid')"
   ]
  },
  {
   "cell_type": "code",
   "execution_count": 84,
   "metadata": {},
   "outputs": [],
   "source": [
    "#Re-shape data frames\n",
    "#Round doubles\n",
    "df_output.additional_height_tower_1_intermediate_hop = df_output.additional_height_tower_1_intermediate_hop.round()\n",
    "df_output.additional_height_tower_2_intermediate_hop = df_output.additional_height_tower_2_intermediate_hop.round()"
   ]
  },
  {
   "cell_type": "code",
   "execution_count": 85,
   "metadata": {},
   "outputs": [],
   "source": [
    "#Export output\n",
    "\n",
    "query_path = sql_path + '/' + country_folder + '/' + 'transport_multihop_add_tx.sql'\n",
    "\n",
    "with open(query_path) as file, database(config_path) as db:    \n",
    "    df_output.to_sql(temporary_table, con=db, if_exists = 'replace', schema = schema, index = False, \n",
    "                dtype = {'centroid': sqlalchemy.types.String(),\n",
    "                         'intermediate_hop_id': sqlalchemy.types.Integer(),\n",
    "                         'distance_intermediate_hop_m': sqlalchemy.types.Integer(),\n",
    "                         'line_of_sight_intermediate_hop': sqlalchemy.types.Boolean(),\n",
    "                         'additional_height_tower_1_intermediate_hop_m': sqlalchemy.types.Integer(),\n",
    "                         'additional_height_tower_2_intermediate_hop_m': sqlalchemy.types.Integer()\n",
    "                        })\n",
    "    query = file.read()\n",
    "    query_formatted = query.format(schema = schema,\n",
    "                                   output_table = output_table,\n",
    "                                   temporary_table = temporary_table,\n",
    "                                   transport_table = transport_table,\n",
    "                                   tef_alias = tef_alias)\n",
    "    db.execute(query_formatted)"
   ]
  }
 ],
 "metadata": {
  "kernelspec": {
   "display_name": "Python 3",
   "language": "python",
   "name": "python3"
  },
  "language_info": {
   "codemirror_mode": {
    "name": "ipython",
    "version": 3
   },
   "file_extension": ".py",
   "mimetype": "text/x-python",
   "name": "python",
   "nbconvert_exporter": "python",
   "pygments_lexer": "ipython3",
   "version": "3.6.7"
  }
 },
 "nbformat": 4,
 "nbformat_minor": 1
}
