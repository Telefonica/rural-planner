{
 "cells": [
  {
   "cell_type": "code",
   "execution_count": 38,
   "metadata": {},
   "outputs": [],
   "source": [
    "#Load libraries\n",
    "import pandas as pd\n",
    "import psycopg2\n",
    "import sys\n",
    "import numpy as np\n",
    "import math\n",
    "from pandas.io import sql\n",
    "import sqlalchemy\n",
    "from sqlalchemy import create_engine\n",
    "from datetime import datetime\n",
    "import os\n",
    "from configobj import ConfigObj\n",
    "import contextlib\n",
    "\n",
    "module_path = os.path.abspath(os.path.join('..'))\n",
    "if module_path not in sys.path:\n",
    "    sys.path.append(module_path)\n",
    "    \n",
    "from functions.utils import database"
   ]
  },
  {
   "cell_type": "code",
   "execution_count": 39,
   "metadata": {},
   "outputs": [],
   "source": [
    "## define paths and variables\n",
    "\n",
    "config_path = \"/home/jovyan/shared/rural_planner_refactoring/config_files_test/config_co\"\n",
    "\n",
    "parser = ConfigObj(config_path)\n",
    "\n",
    "sql_path =  parser['sql_path']\n",
    "country_folder = parser['country_folder']\n",
    "schema = parser['transport_by_mw_params']['schema']\n",
    "\n",
    "output_table = parser['transport_by_mw_params']['output_table']\n",
    "temporary_table = parser['transport_by_mw_params']['temporary_table']\n",
    "table_nodes = parser['transport_by_mw_params']['node_table']\n",
    "table_infrastructure = parser['transport_by_tower_params']['table_infrastructure']\n",
    "table_transport = parser['transport_by_tower_params']['output_table']\n",
    "table_clusters = parser['clustering_params']['output_table']\n",
    "table_gf_cl_transport = parser['transport_gf_cl_params']['output_table']\n",
    "\n",
    "sources_omit = parser['transport_by_tower_params']['sources_omit']\n",
    "owners_tx = dict(parser['transport_by_tower_params']['owners_tx'])\n",
    "\n",
    "regional_owners = parser['transport_by_tower_params']['regional_owners']\n",
    "third_party_owners = parser['transport_by_tower_params']['third_party_owners']\n",
    "fiber_radius = int(parser['transport_by_tower_params']['fiber_radius'])\n",
    "\n",
    "tef_alias = (owners_tx.keys() - (regional_owners + third_party_owners)).pop()"
   ]
  },
  {
   "cell_type": "code",
   "execution_count": 40,
   "metadata": {},
   "outputs": [],
   "source": [
    "## Create node table with clusters and transport by centroid information\n",
    "\n",
    "query_path = sql_path + '/' + country_folder + '/' + 'transport_by_mw_create_node_table.sql'\n",
    "with open(query_path) as file, database(parser) as db:\n",
    "    query = file.read()\n",
    "    query_formatted = query.format(schema = schema, infrastructure_table = table_infrastructure, tef_alias = tef_alias,\n",
    "                                  transport_table = table_transport, transport_gf_cl_table = table_gf_cl_transport,\n",
    "                                  clusters_table = table_clusters, table_nodes = table_nodes, fiber_radius = fiber_radius)\n",
    "    db.execute(query_formatted)\n",
    "        "
   ]
  },
  {
   "cell_type": "code",
   "execution_count": 41,
   "metadata": {},
   "outputs": [],
   "source": [
    "#Clustering for high-density MW nodes\n",
    "\n",
    "query_path = sql_path + '/' + country_folder + '/' + 'transport_by_mw_clusters.sql'\n",
    "\n",
    "with open(query_path) as file, database(parser) as db:\n",
    "    query = file.read()\n",
    "    query_formatted = query.format(schema = schema,\n",
    "                             table_nodes = table_nodes,\n",
    "                             table_clusters = table_clusters)\n",
    "    \n",
    "    clusters_transport = pd.read_sql_query(query_formatted, db)"
   ]
  },
  {
   "cell_type": "code",
   "execution_count": 42,
   "metadata": {},
   "outputs": [],
   "source": [
    "# Add unclustered nodes    \n",
    "\n",
    "query_path = sql_path + '/' + country_folder + '/'  + 'transport_by_mw_clusters_unclustered.sql'\n",
    "\n",
    "with open(query_path) as file, database(parser) as db:    \n",
    "    clusters_transport.to_sql(temporary_table, con=db, if_exists = 'replace', schema = schema, index = False, \n",
    "                dtype = {'centroid_weight': sqlalchemy.types.Integer(),\n",
    "                         'cluster_weight': sqlalchemy.types.Integer(),\n",
    "                         'cluster_size': sqlalchemy.types.Integer()\n",
    "                        })\n",
    "    query = file.read()\n",
    "    query_formatted = query.format(schema = schema,\n",
    "                                   temporary_table = temporary_table,\n",
    "                                   table_nodes = table_nodes,\n",
    "                                   table_clusters = table_clusters)\n",
    "    db.execute(query_formatted)"
   ]
  },
  {
   "cell_type": "code",
   "execution_count": 49,
   "metadata": {},
   "outputs": [],
   "source": [
    "#Create final data frame with links and geoms\n",
    "\n",
    "query_path = sql_path + '/' + country_folder + '/'  + 'transport_by_mw_add_geoms.sql'\n",
    "\n",
    "with open(query_path) as file, database(parser) as db:\n",
    "    query = file.read()\n",
    "    query_formatted = query.format(schema = schema,\n",
    "                             final_output = output_table,\n",
    "                             temporary_table = temporary_table,\n",
    "                             table_infrastructure = table_infrastructure,\n",
    "                             table_clusters = table_clusters)\n",
    "    db.execute(query_formatted)"
   ]
  }
 ],
 "metadata": {
  "kernelspec": {
   "display_name": "Python 3",
   "language": "python",
   "name": "python3"
  },
  "language_info": {
   "codemirror_mode": {
    "name": "ipython",
    "version": 3
   },
   "file_extension": ".py",
   "mimetype": "text/x-python",
   "name": "python",
   "nbconvert_exporter": "python",
   "pygments_lexer": "ipython3",
   "version": "3.6.7"
  }
 },
 "nbformat": 4,
 "nbformat_minor": 1
}
