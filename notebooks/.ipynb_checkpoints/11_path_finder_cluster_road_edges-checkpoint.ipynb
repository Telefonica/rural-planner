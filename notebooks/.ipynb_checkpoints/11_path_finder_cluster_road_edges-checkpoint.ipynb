{
 "cells": [
  {
   "cell_type": "code",
   "execution_count": null,
   "metadata": {},
   "outputs": [],
   "source": [
    "# Load libraries\n",
    "import pandas as pd\n",
    "import numpy as np\n",
    "import sys\n",
    "import os\n",
    "import io\n",
    "import srtm\n",
    "from tqdm.auto import tqdm\n",
    "from configobj import ConfigObj\n",
    "\n",
    "module_path = os.path.abspath(os.path.join('..'))\n",
    "if module_path not in sys.path:\n",
    "    sys.path.append(module_path)\n",
    "    \n",
    "from functions.utils import database\n",
    "from functions.check_los import check_los\n",
    "from functions.tower_los import tower_los"
   ]
  },
  {
   "cell_type": "code",
   "execution_count": null,
   "metadata": {},
   "outputs": [],
   "source": [
    "config_path = \"/home/jovyan/shared/rural_planner_refactoring/config_files/config_pe\"\n",
    "\n",
    "parser = ConfigObj(config_path)\n",
    "\n",
    "sql_path = parser['sql_path']\n",
    "country_folder = parser['country_folder']\n",
    "\n",
    "interval = parser['path_finder_roads_cl_los_params']['interval']\n",
    "\n",
    "table_towers = parser['transport_by_tower_params']['table_infrastructure']\n",
    "table_cluster_node_map = parser['path_finder_roads_params']['table_cluster_node_map']\n",
    "table_clusters = parser['clustering_params']['output_table']\n",
    "table_settlements = parser['clustering_params']['table_settlements']\n",
    "table_settlements_kpis = parser['path_finder_roads_cl_los_params']['table_settlements_kpis']\n",
    "table_jungle = parser['path_finder_roads_cl_los_params']['table_jungle']\n",
    "table_output = parser['path_finder_roads_cl_los_params']['table_output']"
   ]
  },
  {
   "cell_type": "code",
   "execution_count": null,
   "metadata": {},
   "outputs": [],
   "source": [
    "#Find centroids in jungle areas and save in table and load cluster-node map\n",
    "#Assumption: we deploy 30-m towers\n",
    "\n",
    "query_path = sql_path + '/' + country_folder + '/' + 'path_finder_cluster_create_centroids_jungle.sql'\n",
    "query_path_load = sql_path + '/' + country_folder + '/' + 'path_finder_cluster_load_centroids.sql'\n",
    "\n",
    "with open(query_path) as file, open(query_path_load) as file_load, database(parser) as db:       \n",
    "    query = file.read()\n",
    "    query_formatted = query.format(schema = schema,\n",
    "                               table_settlements = table_settlements,\n",
    "                               table_towers = table_towers,\n",
    "                               table_jungle = table_jungle,\n",
    "                               table_settlements_kpis = table_settlements_kpis,\n",
    "                               table_clusters = table_clusters,\n",
    "                               table_cluster_node_map = table_cluster_node_map)\n",
    "    db.execute(query_formatted)   \n",
    "    \n",
    "    query_load = file_load.read()\n",
    "    query_formatted = query.format(schema = schema,\n",
    "                               table_settlements = table_settlements,\n",
    "                               table_towers = table_towers,\n",
    "                               table_jungle = table_jungle,\n",
    "                               table_cluster_node_map = table_cluster_node_map)\n",
    "    df_nodes = pd.read_sql_query(query_formatted, db)\n",
    "    \n",
    "df_nodes['node_id'] = df_nodes['node_id'].astype(int)"
   ]
  },
  {
   "cell_type": "code",
   "execution_count": null,
   "metadata": {},
   "outputs": [],
   "source": [
    "# calculate line of sight for each centroid with its closest road node\n",
    "tqdm.pandas()\n",
    "elevation_data = srtm.get_data()\n",
    "df_nodes = df_nodes.join(df_nodes.progress_apply(towers_los, elevation_data=elevation_data, interval = interval, axis=1))"
   ]
  },
  {
   "cell_type": "code",
   "execution_count": null,
   "metadata": {},
   "outputs": [],
   "source": [
    "#Export and modify types so they are geometries\n",
    "\n",
    "query_path_load = sql_path + '/' + country_folder + '/' + 'path_finder_cluster_cast_geoms.sql'\n",
    "\n",
    "with open(query_path) as file, database(parser) as db:\n",
    "    df_nodes.to_sql(output_table, con=db, if_exists = 'replace', schema = schema, index = False)\n",
    "    query = file.read()\n",
    "    query_formatted = query.format(schema = schema,\n",
    "                               table_settlements = table_settlements,\n",
    "                               table_towers = table_towers,\n",
    "                               table_jungle = table_jungle,\n",
    "                               table_settlements_kpis = table_settlements_kpis,\n",
    "                               table_clusters = table_clusters,\n",
    "                               table_cluster_node_map = table_cluster_node_map)\n",
    "    db.execute(query_formatted)   \n",
    "    \n",
    "    query_load = file_load.read()\n",
    "    query_formatted = query.format(schema = schema,\n",
    "                                  table_output = table_output)\n",
    "    db.execute(query_formatted)"
   ]
  }
 ],
 "metadata": {
  "kernelspec": {
   "display_name": "Python 3",
   "language": "python",
   "name": "python3"
  },
  "language_info": {
   "codemirror_mode": {
    "name": "ipython",
    "version": 3
   },
   "file_extension": ".py",
   "mimetype": "text/x-python",
   "name": "python",
   "nbconvert_exporter": "python",
   "pygments_lexer": "ipython3",
   "version": "3.6.7"
  }
 },
 "nbformat": 4,
 "nbformat_minor": 2
}
