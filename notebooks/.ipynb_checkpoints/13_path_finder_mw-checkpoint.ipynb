{
 "cells": [
  {
   "cell_type": "code",
   "execution_count": 3,
   "metadata": {},
   "outputs": [],
   "source": [
    "# Load libraries\n",
    "import networkx as nx\n",
    "from networkx import *\n",
    "import pandas as pd\n",
    "import numpy as np\n",
    "import math\n",
    "import psycopg2\n",
    "import sys\n",
    "from pandas.io import sql\n",
    "import sqlalchemy\n",
    "import os\n",
    "from sqlalchemy import create_engine, text\n",
    "from sqlalchemy.types import INTEGER\n",
    "from datetime import datetime\n",
    "from configobj import ConfigObj\n",
    "from tqdm.notebook import tqdm\n",
    "tqdm.pandas()\n",
    "\n",
    "module_path = os.path.abspath(os.path.join('..'))\n",
    "if module_path not in sys.path:\n",
    "    sys.path.append(module_path)\n",
    "    \n",
    "from functions.path_finder import solve_mw_path\n",
    "from functions.utils import database"
   ]
  },
  {
   "cell_type": "code",
   "execution_count": 4,
   "metadata": {},
   "outputs": [],
   "source": [
    "#Database connection information\n",
    "config_path = \"/home/jovyan/shared/rural_planner_refactoring/config_files/config_pe\"\n",
    "\n",
    "parser = ConfigObj(config_path)\n",
    "\n",
    "sql_path = parser['sql_path']\n",
    "country_folder = parser['country_folder']\n",
    "\n",
    "owners = dict(parser['path_finder_fiber']['owners'])\n",
    "\n",
    "schema = parser['path_finder_mw']['schema']\n",
    "table_towers = parser['transport_by_tower_params']['table_infrastructure']\n",
    "table_clusters = parser['clustering_params']['output_table']\n",
    "output_table = parser['path_finder_mw']['output_table']\n",
    "final_table = parser['path_finder_mw']['final_table']\n",
    "table_line_of_sight = parser['path_finder_mw']['table_line_of_sight']"
   ]
  },
  {
   "cell_type": "code",
   "execution_count": 8,
   "metadata": {},
   "outputs": [],
   "source": [
    "#Load edges\n",
    "query_path = sql_path + '/' + country_folder + '/' + 'path_finder_mw_load_edges.sql'\n",
    "\n",
    "with open(query_path) as file, database(parser) as db:\n",
    "    query = file.read()\n",
    "    query_formatted = query.format(schema = schema, table_towers = table_towers, table_line_of_sight = table_line_of_sight)\n",
    "    df_edges = pd.read_sql_query(query_formatted, con = db)"
   ]
  },
  {
   "cell_type": "code",
   "execution_count": null,
   "metadata": {},
   "outputs": [],
   "source": [
    "#Create graph\n",
    "G = nx.Graph()\n",
    "\n",
    "for z in range(0, len(df_edges)):\n",
    "    G.add_edge(str(int(df_edges['tower_id_1'].iloc[z])),\n",
    "               str(int(df_edges['tower_id_2'].iloc[z])))\n",
    "    G.add_edge(str(int(df_edges['tower_id_2'].iloc[z])),\n",
    "               str(int(df_edges['tower_id_1'].iloc[z])))\n",
    "    \n",
    "graphs = list(nx.connected_component_subgraphs(G))"
   ]
  },
  {
   "cell_type": "code",
   "execution_count": null,
   "metadata": {},
   "outputs": [],
   "source": [
    "#Load all fiber nodes and terminal nodes\n",
    "query_path_fiber = sql_path + '/' + country_folder + '/' + 'path_finder_mw_load_fiber.sql'\n",
    "query_path_terminal = sql_path + '/' + country_folder + '/' + 'path_finder_mw_load_terminal_nodes.sql'\n",
    "\n",
    "with open(query_path_fiber) as file_fiber, open(query_path_terminal) as file_terminal, database(parser) as db:\n",
    "    query = file_fiber.read()\n",
    "    query_formatted = query.format(schema = schema,\n",
    "                                   table_towers = table_towers)\n",
    "    df_edges_fiber = pd.read_sql_query(query_formatted, con = db)\n",
    "    \n",
    "    query = file_terminal.read()\n",
    "    query_formatted = query.format(schema = schema,\n",
    "                                   table_towers = table_towers)\n",
    "    df_edges_terminal = pd.read_sql_query(query_formatted, con = engine)"
   ]
  },
  {
   "cell_type": "code",
   "execution_count": null,
   "metadata": {},
   "outputs": [],
   "source": [
    "#Calculate mw paths (takes less than 6h)\n",
    "print(str(datetime.now()))\n",
    "all_terminal_nodes = df_edges_terminal['tower_id'].astype(int).astype(str).tolist()\n",
    "\n",
    "df_output = pd.DataFrame()\n",
    "\n",
    "#One iteration for every connected independent subgraph\n",
    "for k in range(0, len(graphs)):\n",
    "    \n",
    "    #Take one of the connected subgraphs and turn it into a data frame\n",
    "    G1 = graphs[k]\n",
    "\n",
    "    nodes_subgraph = list(G1.nodes())\n",
    "    \n",
    "        \n",
    "    #This is the data frame with the edges associated to the fiber\n",
    "    df_edges_fiber_all = df_edges_fiber.ix[df_edges_fiber['tower_id'].isin(nodes_subgraph),]    \n",
    "    \n",
    "    # Filter terminal nodes from current subgraph \n",
    "    terminal_nodes = { node for node in all_terminal_nodes if node in nodes_subgraph}\n",
    "    terminal_nodes = list(terminal_nodes)\n",
    "\n",
    "    if len(terminal_nodes)>0:\n",
    "        #Calculate optimal path for every terminal node with Dijkstra's algorithm\n",
    "        df_output_subgraph = pd.DataFrame({'node_id': terminal_nodes})\n",
    "\n",
    "        for owner in owners.keys():    \n",
    "            df_edges_fiber_owner =  df_edges_fiber_all.ix[df_edges_fiber_all['source'].isin(owners[owner]['sources'])]\n",
    "            fiber_nodes_owner = df_edges_fiber_owner['tower_id'].astype(int).astype(str).tolist()\n",
    "\n",
    "            # calculate optimal fiber path per owner\n",
    "            df_output_subgraph = df_output_subgraph.join(df_output_subgraph.progress_apply(solve_mw_path, axis=1, args=(owner, fiber_nodes_owner, G1)))\n",
    "            print(str(owner)+ ' processed.')   \n",
    "\n",
    "        df_output = df_output.append(df_output_subgraph)     \n",
    "        del df_output_subgraph"
   ]
  },
  {
   "cell_type": "code",
   "execution_count": null,
   "metadata": {},
   "outputs": [],
   "source": [
    "output_cols = list(['node_id'])\n",
    "\n",
    "for owner in owners.keys():\n",
    "    owners_cols = list(['length_' + owner,\n",
    "                   'path_' + owner, \n",
    "                   'fiber_node_' + owner])\n",
    "    output_cols.extend(owners_cols)\n",
    "    \n",
    "sort_cols = ['node_id']\n",
    "sort_cols.extend(['fiber_node_'+owner for owner in owners.keys()])\n",
    "\n",
    "df_output = df_output[output_cols].sort_values(sort_cols).drop_duplicates('node_id').reset_index(drop = True)"
   ]
  },
  {
   "cell_type": "code",
   "execution_count": null,
   "metadata": {},
   "outputs": [],
   "source": [
    "##export, replace arrays limits, cast variables to int/float, create geoms\n",
    "\n",
    "query_path_export = sql_path + '/' + country_folder + '/' + 'path_finder_mw_export.sql'\n",
    "query_path_final = sql_path + '/' + country_folder + '/' + 'path_finder_mw_final_table.sql'\n",
    "\n",
    "with open(query_path_export) as file_export, open(query_path_final) as file_final, database(parser) as db:\n",
    "    df_output.to_sql(output_table, con=db, if_exists = 'replace', schema = schema, index = False)\n",
    "    query = file_export.read()\n",
    "    query_formatted = query.format(schema = schema,\n",
    "                                   output_table = output_table,\n",
    "                                   table_towers = table_towers)\n",
    "    db.execute(query_formatted)\n",
    "    # Create final output\n",
    "    query = file_final.read()\n",
    "    query_formatted = query.format(schema = schema,\n",
    "                                   final_table = final_table,\n",
    "                                   table_clusters = table_clusters,\n",
    "                                   table_towers = table_towers,\n",
    "                                   output_table = output_table)\n",
    "    db.execute(query_formatted)"
   ]
  }
 ],
 "metadata": {
  "kernelspec": {
   "display_name": "Python 3",
   "language": "python",
   "name": "python3"
  },
  "language_info": {
   "codemirror_mode": {
    "name": "ipython",
    "version": 3
   },
   "file_extension": ".py",
   "mimetype": "text/x-python",
   "name": "python",
   "nbconvert_exporter": "python",
   "pygments_lexer": "ipython3",
   "version": "3.6.7"
  }
 },
 "nbformat": 4,
 "nbformat_minor": 2
}
